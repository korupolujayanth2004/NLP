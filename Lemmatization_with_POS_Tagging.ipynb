{
  "cells": [
    {
      "cell_type": "markdown",
      "metadata": {
        "id": "view-in-github",
        "colab_type": "text"
      },
      "source": [
        "<a href=\"https://colab.research.google.com/github/korupolujayanth2004/NLP/blob/main/Lemmatization_with_POS_Tagging.ipynb\" target=\"_parent\"><img src=\"https://colab.research.google.com/assets/colab-badge.svg\" alt=\"Open In Colab\"/></a>"
      ]
    },
    {
      "cell_type": "code",
      "execution_count": null,
      "metadata": {
        "colab": {
          "base_uri": "https://localhost:8080/"
        },
        "id": "HPGfE5Bx8n24",
        "outputId": "f7fc4e0a-ae77-40c4-e28d-ef60ffdc2043"
      },
      "outputs": [
        {
          "name": "stderr",
          "output_type": "stream",
          "text": [
            "[nltk_data] Downloading package wordnet to /root/nltk_data...\n"
          ]
        },
        {
          "data": {
            "text/plain": [
              "True"
            ]
          },
          "execution_count": 7,
          "metadata": {},
          "output_type": "execute_result"
        }
      ],
      "source": [
        "import nltk\n",
        "nltk.download('wordnet')"
      ]
    },
    {
      "cell_type": "code",
      "execution_count": null,
      "metadata": {
        "colab": {
          "base_uri": "https://localhost:8080/"
        },
        "id": "v2UKr-5-79Rv",
        "outputId": "c78eec26-041d-4ac0-acf2-508e583ce52e"
      },
      "outputs": [
        {
          "output_type": "stream",
          "name": "stdout",
          "text": [
            "(word): game\n",
            "(word): runner\n",
            "(word): sportsmanship\n"
          ]
        }
      ],
      "source": [
        "import nltk\n",
        "from nltk.stem import WordNetLemmatizer\n",
        "\n",
        "l=WordNetLemmatizer()\n",
        "words=['games','runner','sportsmanship']\n",
        "for i in words:\n",
        "  print(f\"(word): {l . lemmatize(i)}\")"
      ]
    },
    {
      "cell_type": "code",
      "execution_count": null,
      "metadata": {
        "colab": {
          "base_uri": "https://localhost:8080/"
        },
        "id": "hoxQeeiVCFxh",
        "outputId": "549adb29-6143-4346-a8ab-07e04201bded"
      },
      "outputs": [
        {
          "output_type": "stream",
          "name": "stdout",
          "text": [
            "Enter the index of the text to process: 5\n",
            "Subject : ehronline web address change this message is intended for ehronline users only . due to a recent change to ehronline , the url ( aka `` web address `` ) for accessing ehronline needs to be changed on your computer . the change involves adding the letter `` s `` to the `` http `` reference in the url . the url for accessing ehronline should be : https : / / ehronline . enron . com . this change should be made by those who have added the url as a favorite on the browser .\n",
            "Subject : ehronline web address change this message is intended for ehronline user only . due to a recent change to ehronline , the url ( aka `` web address `` ) for accessing ehronline need to be changed on your computer . the change involves adding the letter `` s `` to the `` http `` reference in the url . the url for accessing ehronline should be : http : / / ehronline . enron . com . this change should be made by those who have added the url a a favorite on the browser . "
          ]
        }
      ],
      "source": [
        "import pandas as pd\n",
        "import nltk\n",
        "from nltk.tokenize import word_tokenize\n",
        "from nltk.stem import WordNetLemmatizer\n",
        "from nltk import pos_tag\n",
        "l = WordNetLemmatizer()\n",
        "def lam(data):\n",
        "    for i in data:\n",
        "            token = l.lemmatize(i)\n",
        "            print(token, end=\" \")\n",
        "data = pd.read_csv(\"resume.csv\")['text']\n",
        "k = int(input(\"Enter the index of the text to process: \"))\n",
        "tokens = word_tokenize(data[k])\n",
        "print(' '.join(tokens))\n",
        "lam(tokens)\n"
      ]
    },
    {
      "cell_type": "code",
      "source": [
        "nltk.download('averaged_perceptron_tagger_eng')"
      ],
      "metadata": {
        "colab": {
          "base_uri": "https://localhost:8080/"
        },
        "id": "os4wGf1RTipZ",
        "outputId": "a29beb60-1b41-45ea-e2c3-b20c24b5a251"
      },
      "execution_count": null,
      "outputs": [
        {
          "output_type": "stream",
          "name": "stderr",
          "text": [
            "[nltk_data] Downloading package averaged_perceptron_tagger_eng to\n",
            "[nltk_data]     /root/nltk_data...\n",
            "[nltk_data]   Unzipping taggers/averaged_perceptron_tagger_eng.zip.\n"
          ]
        },
        {
          "output_type": "execute_result",
          "data": {
            "text/plain": [
              "True"
            ]
          },
          "metadata": {},
          "execution_count": 48
        }
      ]
    },
    {
      "cell_type": "code",
      "source": [
        "import pandas as pd\n",
        "import nltk\n",
        "from nltk.tokenize import word_tokenize\n",
        "from nltk.stem import WordNetLemmatizer\n",
        "from nltk import pos_tag\n",
        "l = WordNetLemmatizer()\n",
        "def lam(data):\n",
        "    for i in data:\n",
        "        if i.isalpha():\n",
        "            pos = pos_tag([i])[0][1]\n",
        "            if pos.startswith('V'):\n",
        "                pos = 'v'\n",
        "            elif pos.startswith('N'):\n",
        "                pos = 'n'\n",
        "            elif pos.startswith('J'):\n",
        "                pos = 'a'\n",
        "            else:\n",
        "                pos = 'n'\n",
        "            token = l.lemmatize(i, pos)\n",
        "            print(token, end=\" \")\n",
        "data = pd.read_csv(\"resume.csv\")['text']\n",
        "k = int(input(\"Enter the index of the text to process: \"))\n",
        "tokens = word_tokenize(data[k])\n",
        "print(' '.join(tokens))\n",
        "lam(tokens)\n"
      ],
      "metadata": {
        "colab": {
          "base_uri": "https://localhost:8080/"
        },
        "id": "TbEvpGVkTSjb",
        "outputId": "7807a90b-e045-445d-a1fd-c9d96bd3f2fc"
      },
      "execution_count": null,
      "outputs": [
        {
          "output_type": "stream",
          "name": "stdout",
          "text": [
            "Enter the index of the text to process: 10\n",
            "Subject : vocable % rnd - word asceticism vcsc - brand new stock for your attention vocalscape inc - the stock symbol is : vcsc vcsc will be our top stock pick for the month of april - stock expected to bounce to 12 cents level the stock hit its all time low and will bounce back stock is going to explode in next 5 days - watch it soar watch the stock go crazy this and next week . breaking news - vocalscape inc . announces agreement to resell mix network services current price : $ 0 . 025 we expect projected speculative price in next 5 days : $ 0 . 12 we expect projected speculative price in next 15 days : $ 0 . 15 vocalscape networks inc . is building a company that ' s revolutionizing the telecommunications industry with the most affordable phone systems , hardware , online software , and rates in canada and the us . vocalscape , a company with global reach , is receiving international attention for the development of voice over ip ( voip ) application solutions , including the award - winning eyefontm , a softphone for real - time pc - to - phone . we are an advanced implementer of pbx systems for companies , call centers , itsps and service providers . vocalscape has created software and interactive solutions revolving around global communications and data voice convergence . companies use vocalscape for voice over internet protocol applications like ip pbxs , softswitches , pc 2 phone and web 2 phone , providing real - time human interaction and information delivery over the internet . through vocalscape ' s solutions , businesses can offer a quality voice service to anywhere in the world at rates that are significantly lower than current long distance charges . we develop software to run voip networks , and sell , install and service our own branded voip gateways and gatekeeper control software . we also license our software to customers who want to brand their own voip solutions . vocalscape is committed to making great technology ; challenging the status quo , and building a 21 st century company that changes the way businesses communicate and interact through the internet . current price : $ 0 . 025 we expect projected speculative price in next 5 days : $ 0 . 12 we expect projected speculative price in next 15 days : $ 0 . 15 breaking news - vocalscape inc . announces agreement to resell mix network services - - - - - - - - - - katonah , n . y . , / prnewswire - firstcall via comtex / - - vocalscape , inc . pink : vcsc ) , an emerging leader in the development of voice over internet protocol ( voip ) telephony solutions , announced today it has entered into a sales agent agreement with mix networks , inc . a voip enhanced telephony service provider . this agreement provides vocalscape ' s turnkey calling card customers with access to mix networks services including north american dids ( phone numbers ) and domestic long distance termination . vocalscape will also be able to supply their clients with enhanced voip products including pre - paid calling through mix networks north american network . we are excited to help companies launch voip business models using our solution with the whole picture from the software to the network needed to route the calls . mix networks gives us the ability to offer wholesale monthly flat rate plans and dids to our clients that allow for us to build business models like popular voip companies such as vonage and packet 8 , says ryan gibson , vp vocalscape networks some legal words before you continue : information within this email contains forward looking statements within the meaning of section 27 a of the securities act of 1933 and section 21 b of the securities exchange act of 1934 . any statements that express or involve discussions with respect to predictions , goals , expectations , beliefs , plans , projections , objectives , assumptions or future events or performance are not statements of historical fact and may be forward looking statements . forward looking statements are based on expectations , estimates and projections at the time the statements are made that involve a number of risks and uncertainties which could cause actual results or events to differ materially from those presently anticipated . forward looking statements in this action may be identified through the use of words such as : projects , foresee , expects , estimates , believes , understands will , part of : anticipates , or that by statements indicating certain actions may , could , or might occur . all information provided within this email pertaining to investing , stocks , securities must be understood as information provided and not investment advice . emerging equity alert advises all readers and subscribers to seek advice from a registered professional securities representative before deciding to trade in stocks featured within this email . none of the material within this report shall be construed as any kind of investment advice . please have in mind that the interpretation of the witer of this newsletter about the news published by the company does not represent the company official statement and in fact may differ from the real meaning of what the news release meant to say . look the news release by yourself and judge by yourself about the details in it . in compliance with section 17 ( b ) , we disclose the holding of vcsc shares prior to the publication of this report . be aware of an inherent conflict of interest resulting from such holdings due to our intent to profit from the liquidation of these shares . shares may be sold at any time , even after positive statements have been made regarding the above company . since we own shares , there is an inherent conflict of interest in our statements and opinions . readers of this publication are cautioned not to place undue reliance on forward - looking statements , which are based on certain assumptions and expectations involving various risks and uncertainties , that could cause results to differ materially from those set forth in the forward - looking statements . please be advised that nothing within this email shall constitute a solicitation or an invitation to get position in or sell any security mentioned herein . this newsletter is neither a registered investment advisor nor affiliated with any broker or dealer . this newsletter was paid $ 49000 from third party to send this report . all statements made are our express opinion only and should be treated as such . we may own , take position and sell any securities mentioned at any time . this report includes forward - looking statements within the meaning of the private securities litigation reform act of 1995 . these statements may include terms as projected speculative price expect , believe , may , will , soar move , undervalued and intend or similar terms .\n",
            "Subject vocable rnd word asceticism vcsc brand new stock for your attention vocalscape inc the stock symbol be vcsc vcsc will be our top stock pick for the month of april stock expect to bounce to cent level the stock hit it all time low and will bounce back stock be go to explode in next day watch it soar watch the stock go crazy this and next week break news vocalscape inc announces agreement to resell mix network service current price we expect project speculative price in next day we expect project speculative price in next day vocalscape network inc be building a company that s revolutionize the telecommunication industry with the most affordable phone system hardware online software and rate in canada and the u vocalscape a company with global reach be receive international attention for the development of voice over ip voip application solution include the award win eyefontm a softphone for real time pc to phone we be an advanced implementer of pbx system for company call center itsps and service provider vocalscape have create software and interactive solution revolve around global communication and data voice convergence company use vocalscape for voice over internet protocol application like ip pbxs softswitches pc phone and web phone provide real time human interaction and information delivery over the internet through vocalscape s solution business can offer a quality voice service to anywhere in the world at rate that be significantly low than current long distance charge we develop software to run voip network and sell install and service our own brand voip gateway and gatekeeper control software we also license our software to customer who want to brand their own voip solution vocalscape be commit to make great technology challenge the status quo and building a st century company that change the way business communicate and interact through the internet current price we expect project speculative price in next day we expect project speculative price in next day break news vocalscape inc announces agreement to resell mix network service katonah n y prnewswire firstcall via comtex vocalscape inc pink vcsc an emerge leader in the development of voice over internet protocol voip telephony solution announce today it have enter into a sale agent agreement with mix network inc a voip enhance telephony service provider this agreement provide vocalscape s turnkey call card customer with access to mix network service include north american dids phone number and domestic long distance termination vocalscape will also be able to supply their client with enhance voip product include pre paid call through mix network north american network we be excite to help company launch voip business model use our solution with the whole picture from the software to the network need to route the call mix network give u the ability to offer wholesale monthly flat rate plan and dids to our client that allow for u to build business model like popular voip company such a vonage and packet say ryan gibson vp vocalscape network some legal word before you continue information within this email contains forward look statement within the meaning of section a of the security act of and section b of the security exchange act of any statement that express or involve discussion with respect to prediction goal expectation belief plan projection objective assumption or future event or performance be not statement of historical fact and may be forward look statement forward look statement be base on expectation estimate and projection at the time the statement be make that involve a number of risk and uncertainty which could cause actual result or event to differ materially from those presently anticipate forward look statement in this action may be identify through the use of word such a project foresee expect estimate believe understands will part of anticipates or that by statement indicate certain action may could or might occur all information provide within this email pertain to invest stock security must be understood a information provide and not investment advice emerge equity alert advises all reader and subscriber to seek advice from a register professional security representative before decide to trade in stock feature within this email none of the material within this report shall be construe a any kind of investment advice please have in mind that the interpretation of the witer of this newsletter about the news publish by the company do not represent the company official statement and in fact may differ from the real meaning of what the news release meant to say look the news release by yourself and judge by yourself about the detail in it in compliance with section b we disclose the hold of vcsc share prior to the publication of this report be aware of an inherent conflict of interest result from such holding due to our intent to profit from the liquidation of these share share may be sell at any time even after positive statement have be make regard the above company since we own share there be an inherent conflict of interest in our statement and opinion reader of this publication be caution not to place undue reliance on forward look statement which be base on certain assumption and expectation involve various risk and uncertainty that could cause result to differ materially from those set forth in the forward look statement please be advise that nothing within this email shall constitute a solicitation or an invitation to get position in or sell any security mention herein this newsletter be neither a register investment advisor nor affiliate with any broker or dealer this newsletter be paid from third party to send this report all statement make be our express opinion only and should be treat a such we may own take position and sell any security mention at any time this report include forward look statement within the meaning of the private security litigation reform act of these statement may include term a project speculative price expect believe may will soar move undervalue and intend or similar term "
          ]
        }
      ]
    },
    {
      "cell_type": "code",
      "source": [
        "import nltk\n",
        "nltk.download('punkt_tab')"
      ],
      "metadata": {
        "colab": {
          "base_uri": "https://localhost:8080/"
        },
        "id": "ng4Kwy_oV07O",
        "outputId": "79a00fad-8667-4c72-e7f2-ca792e8a0d72"
      },
      "execution_count": null,
      "outputs": [
        {
          "output_type": "stream",
          "name": "stderr",
          "text": [
            "[nltk_data] Downloading package punkt_tab to /root/nltk_data...\n",
            "[nltk_data]   Unzipping tokenizers/punkt_tab.zip.\n"
          ]
        },
        {
          "output_type": "execute_result",
          "data": {
            "text/plain": [
              "True"
            ]
          },
          "metadata": {},
          "execution_count": 3
        }
      ]
    },
    {
      "cell_type": "code",
      "source": [
        "import nltk\n",
        "nltk.download('wordnet')"
      ],
      "metadata": {
        "colab": {
          "base_uri": "https://localhost:8080/"
        },
        "id": "0zxS8iIAWAdl",
        "outputId": "cabba69b-8bbb-4381-95be-923fac30818a"
      },
      "execution_count": null,
      "outputs": [
        {
          "output_type": "stream",
          "name": "stderr",
          "text": [
            "[nltk_data] Downloading package wordnet to /root/nltk_data...\n"
          ]
        },
        {
          "output_type": "execute_result",
          "data": {
            "text/plain": [
              "True"
            ]
          },
          "metadata": {},
          "execution_count": 5
        }
      ]
    },
    {
      "source": [
        "import pandas as pd\n",
        "import nltk\n",
        "from nltk.tokenize import word_tokenize\n",
        "from nltk.stem import WordNetLemmatizer\n",
        "l = WordNetLemmatizer()\n",
        "def lam(data):\n",
        "       for i in data:\n",
        "           if i.isalpha():\n",
        "               token = l.lemmatize(i)\n",
        "               print(token, end=\" \")\n",
        "\n",
        "data = pd.read_csv(\"data.csv\")['text']\n",
        "k = int(input(\"Enter the index of the text to process: \"))\n",
        "tokens = word_tokenize(data[k])\n",
        "print(' '.join(tokens))\n",
        "lam(tokens)\n",
        "\n",
        "\n",
        "\n"
      ],
      "cell_type": "code",
      "metadata": {
        "colab": {
          "base_uri": "https://localhost:8080/",
          "height": 89
        },
        "id": "teeCLLg8VVYH",
        "outputId": "5909e2e5-3827-4d5c-9c44-79316abd0944"
      },
      "execution_count": null,
      "outputs": [
        {
          "output_type": "stream",
          "name": "stdout",
          "text": [
            "Enter the index of the text to process: 5\n",
            "Subject : ehronline web address change this message is intended for ehronline users only . due to a recent change to ehronline , the url ( aka `` web address `` ) for accessing ehronline needs to be changed on your computer . the change involves adding the letter `` s `` to the `` http `` reference in the url . the url for accessing ehronline should be : https : / / ehronline . enron . com . this change should be made by those who have added the url as a favorite on the browser .\n",
            "Subject ehronline web address change this message is intended for ehronline user only due to a recent change to ehronline the url aka web address for accessing ehronline need to be changed on your computer the change involves adding the letter s to the http reference in the url the url for accessing ehronline should be http ehronline enron com this change should be made by those who have added the url a a favorite on the browser "
          ]
        },
        {
          "output_type": "display_data",
          "data": {
            "text/plain": [
              "<IPython.core.display.HTML object>"
            ],
            "text/html": [
              "<style>body { background-color: white !important; }</style>"
            ]
          },
          "metadata": {}
        }
      ]
    }
  ],
  "metadata": {
    "colab": {
      "provenance": [],
      "authorship_tag": "ABX9TyOIIRZlOdIQ/ZC/07fYv1Jz",
      "include_colab_link": true
    },
    "kernelspec": {
      "display_name": "Python 3",
      "name": "python3"
    },
    "language_info": {
      "name": "python"
    }
  },
  "nbformat": 4,
  "nbformat_minor": 0
}