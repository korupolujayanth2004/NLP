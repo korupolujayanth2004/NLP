{
  "nbformat": 4,
  "nbformat_minor": 0,
  "metadata": {
    "colab": {
      "provenance": [],
      "authorship_tag": "ABX9TyMD3EDjvPXnWOh+XqxZ4Ken",
      "include_colab_link": true
    },
    "kernelspec": {
      "name": "python3",
      "display_name": "Python 3"
    },
    "language_info": {
      "name": "python"
    }
  },
  "cells": [
    {
      "cell_type": "markdown",
      "metadata": {
        "id": "view-in-github",
        "colab_type": "text"
      },
      "source": [
        "<a href=\"https://colab.research.google.com/github/korupolujayanth2004/NLP/blob/main/Contractions_Expander.ipynb\" target=\"_parent\"><img src=\"https://colab.research.google.com/assets/colab-badge.svg\" alt=\"Open In Colab\"/></a>"
      ]
    },
    {
      "cell_type": "code",
      "source": [
        "pip install contractions"
      ],
      "metadata": {
        "colab": {
          "base_uri": "https://localhost:8080/"
        },
        "id": "SGCHq9jH1l6i",
        "outputId": "3bbd10b9-16f7-446e-ae30-b7efe2b8dc71"
      },
      "execution_count": null,
      "outputs": [
        {
          "output_type": "stream",
          "name": "stdout",
          "text": [
            "Collecting contractions\n",
            "  Downloading contractions-0.1.73-py2.py3-none-any.whl.metadata (1.2 kB)\n",
            "Collecting textsearch>=0.0.21 (from contractions)\n",
            "  Downloading textsearch-0.0.24-py2.py3-none-any.whl.metadata (1.2 kB)\n",
            "Collecting anyascii (from textsearch>=0.0.21->contractions)\n",
            "  Downloading anyascii-0.3.2-py3-none-any.whl.metadata (1.5 kB)\n",
            "Collecting pyahocorasick (from textsearch>=0.0.21->contractions)\n",
            "  Downloading pyahocorasick-2.1.0-cp311-cp311-manylinux_2_17_x86_64.manylinux2014_x86_64.whl.metadata (13 kB)\n",
            "Downloading contractions-0.1.73-py2.py3-none-any.whl (8.7 kB)\n",
            "Downloading textsearch-0.0.24-py2.py3-none-any.whl (7.6 kB)\n",
            "Downloading anyascii-0.3.2-py3-none-any.whl (289 kB)\n",
            "\u001b[2K   \u001b[90m━━━━━━━━━━━━━━━━━━━━━━━━━━━━━━━━━━━━━━━━\u001b[0m \u001b[32m289.9/289.9 kB\u001b[0m \u001b[31m14.2 MB/s\u001b[0m eta \u001b[36m0:00:00\u001b[0m\n",
            "\u001b[?25hDownloading pyahocorasick-2.1.0-cp311-cp311-manylinux_2_17_x86_64.manylinux2014_x86_64.whl (118 kB)\n",
            "\u001b[2K   \u001b[90m━━━━━━━━━━━━━━━━━━━━━━━━━━━━━━━━━━━━━━━━\u001b[0m \u001b[32m118.3/118.3 kB\u001b[0m \u001b[31m8.8 MB/s\u001b[0m eta \u001b[36m0:00:00\u001b[0m\n",
            "\u001b[?25hInstalling collected packages: pyahocorasick, anyascii, textsearch, contractions\n",
            "Successfully installed anyascii-0.3.2 contractions-0.1.73 pyahocorasick-2.1.0 textsearch-0.0.24\n"
          ]
        }
      ]
    },
    {
      "cell_type": "code",
      "execution_count": null,
      "metadata": {
        "id": "6Af_-GCv9iTM",
        "colab": {
          "base_uri": "https://localhost:8080/"
        },
        "outputId": "450daaf0-c7e0-48fc-f339-e36bf0d88fa8"
      },
      "outputs": [
        {
          "output_type": "stream",
          "name": "stdout",
          "text": [
            "Original text: I'll be there within 5 min. \n",
            "Shouldn't you be there too? I'd love to see \n",
            "u there my dear. It's awesome to meet new friends.\n",
            "We've been waiting for this day for so long.\n",
            "\n",
            "Expanded text: I will be there within 5 min. Should not you be there too? I would love to see you there my dear. It is awesome to meet new friends. We have been waiting for this day for so long.\n",
            "She would like to know how I would done \n",
            "that!She is going to the park and I do not think I will be home \n",
            "for dinner.They are going to the zoo and she will be home for dinner.\n"
          ]
        }
      ],
      "source": [
        "import contractions\n",
        "text = '''I'll be there within 5 min.\n",
        "Shouldn't you be there too? I'd love to see\n",
        "u there my dear. It's awesome to meet new friends.\n",
        "We've been waiting for this day for so long.'''\n",
        "expanded_words = []\n",
        "for word in text.split():\n",
        "  expanded_words.append(contractions.fix(word))\n",
        "expanded_text = ' '.join(expanded_words)\n",
        "print('Original text: ' + text+'\\n')\n",
        "print('Expanded text: ' + expanded_text)\n",
        "text = '''She'd like to know how I'd done\n",
        "that!She's going to the park and I don't think I'll be home\n",
        "for dinner.They're going to the zoo and she'll be home for dinner.'''\n",
        "print(contractions.fix(text))"
      ]
    },
    {
      "cell_type": "code",
      "source": [
        "import pandas as pd\n",
        "import contractions\n",
        "df = pd.read_csv('slang-only.csv')['Text']\n",
        "new_df=[]\n",
        "c=0\n",
        "for i in range(len(df)):\n",
        "  new_df.append(contractions.fix(df[i]))\n",
        "  if df[i]!=new_df[i]:\n",
        "    print(df[i])\n",
        "    print(new_df[i])\n",
        "    print('\\n')\n",
        "    c+=1\n",
        "  if c==5:\n",
        "    break\n"
      ],
      "metadata": {
        "colab": {
          "base_uri": "https://localhost:8080/"
        },
        "id": "mwuRyRuk1tly",
        "outputId": "1c08ce13-b340-4412-e1ac-e19b1e41e2d3"
      },
      "execution_count": null,
      "outputs": [
        {
          "output_type": "stream",
          "name": "stdout",
          "text": [
            "My teacher assigned a surprise test today, and I was totally shook - I didn't even know we had covered that material!\n",
            "My teacher assigned a surprise test today, and I was totally shook - I did not even know we had covered that material!\n",
            "\n",
            "\n",
            "When my best friend told me they were moving away, I was seriously shook; it won't be the same without them around.\n",
            "When my best friend told me they were moving away, I was seriously shook; it will not be the same without them around.\n",
            "\n",
            "\n",
            "Seeing my ex with someone new at the party last night left me feeling pretty shook, even though we've been broken up for a while now.\n",
            "Seeing my ex with someone new at the party last night left me feeling pretty shook, even though we have been broken up for a while now.\n",
            "\n",
            "\n",
            "You won't believe how shook I was when I found out we have a pop quiz in history tomorrow.\n",
            "You will not believe how shook I was when I found out we have a pop quiz in history tomorrow.\n",
            "\n",
            "\n",
            "The ending of that TV series left me completely shook, I couldn't believe it!\n",
            "The ending of that TV series left me completely shook, I could not believe it!\n",
            "\n",
            "\n"
          ]
        }
      ]
    }
  ]
}