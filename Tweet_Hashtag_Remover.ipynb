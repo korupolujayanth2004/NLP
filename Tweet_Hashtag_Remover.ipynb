{
  "nbformat": 4,
  "nbformat_minor": 0,
  "metadata": {
    "colab": {
      "provenance": [],
      "authorship_tag": "ABX9TyO1XYzbxG+SQxyPeXXNiiT4",
      "include_colab_link": true
    },
    "kernelspec": {
      "name": "python3",
      "display_name": "Python 3"
    },
    "language_info": {
      "name": "python"
    }
  },
  "cells": [
    {
      "cell_type": "markdown",
      "metadata": {
        "id": "view-in-github",
        "colab_type": "text"
      },
      "source": [
        "<a href=\"https://colab.research.google.com/github/korupolujayanth2004/NLP/blob/main/Tweet_Hashtag_Remover.ipynb\" target=\"_parent\"><img src=\"https://colab.research.google.com/assets/colab-badge.svg\" alt=\"Open In Colab\"/></a>"
      ]
    },
    {
      "cell_type": "code",
      "source": [
        "import re\n",
        "res=[]\n",
        "def remove_regex(regex_pattern,input_text):\n",
        "  text = re.finditer(regex_pattern, input_text)\n",
        "  for i in  text:\n",
        "    input_text = re.sub(i.group().strip(),'',input_text)\n",
        "  res.append(input_text)\n",
        "\n",
        "import pandas as pd\n",
        "data=pd.read_csv(\"tweetskag.csv\")\n",
        "n=int(input(\"Enter Line index to remove #[word] : \"))\n",
        "predata=data['content']\n",
        "print(predata[0])\n",
        "a=predata[n]\n",
        "regex_pattern = \"#[\\w]*\"\n",
        "for i in a:\n",
        "  remove_regex(regex_pattern,i)\n",
        "for r in res:\n",
        "  print(r,end=\"\")\n"
      ],
      "metadata": {
        "colab": {
          "base_uri": "https://localhost:8080/"
        },
        "id": "MYmasFgtaAiP",
        "outputId": "41eda271-ddf3-4dda-b451-2f283c8f5765"
      },
      "execution_count": null,
      "outputs": [
        {
          "output_type": "stream",
          "name": "stdout",
          "text": [
            "Enter Line index to remove #[word] : 0\n",
            "Is history repeating itself...?#DONTNORMALIZEHATE https://t.co/ngG11quhmK\n",
            "Is history repeating itself...?DONTNORMALIZEHATE https://t.co/ngG11quhmK"
          ]
        }
      ]
    },
    {
      "cell_type": "code",
      "source": [
        "import re\n",
        "res=[]\n",
        "def remove_regex(regex_pattern,input_text):\n",
        "  text = re.finditer(regex_pattern, input_text)\n",
        "  for i in  text:\n",
        "    input_text = re.sub(i.group().strip(),'',input_text)\n",
        "  res.append(input_text)\n",
        "\n",
        "import pandas as pd\n",
        "data=pd.read_csv(\"tweetsgit.csv\")\n",
        "n=int(input(\"Enter Line index to remove #[word] : \"))\n",
        "predata=data['text']\n",
        "print(predata[n])\n",
        "a=predata[n]\n",
        "regex_pattern = \"#[\\w]*\"\n",
        "for i in a:\n",
        "  remove_regex(regex_pattern,i)\n",
        "for r in res:\n",
        "  print(r,end=\"\")\n"
      ],
      "metadata": {
        "id": "6i1RiN4M2KSU",
        "colab": {
          "base_uri": "https://localhost:8080/"
        },
        "outputId": "0f598485-c0ed-4cbd-c2ba-ceb319cf0fe0"
      },
      "execution_count": null,
      "outputs": [
        {
          "output_type": "stream",
          "name": "stdout",
          "text": [
            "Enter Line index to remove #[word] : 3\n",
            "Le patron de la Banque @cibc s’attend à un ralentissement des prêts hypothécaires en 2019. #hypothèque #banque… https://t.co/Plonzy8ezV\n",
            "Le patron de la Banque @cibc s’attend à un ralentissement des prêts hypothécaires en 2019. hypothèque banque… https://t.co/Plonzy8ezV"
          ]
        }
      ]
    }
  ]
}